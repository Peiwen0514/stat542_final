{
 "cells": [
  {
   "cell_type": "code",
   "execution_count": null,
   "id": "ee2ea658",
   "metadata": {},
   "outputs": [],
   "source": [
    "import pandas as pd \n",
    "import numpy as np \n",
    "import seaborn as sns\n",
    "import matplotlib.pyplot as plt\n",
    "import time \n",
    "from sklearn import manifold\n",
    "from xgboost import XGBClassifier\n",
    "from lightgbm import LGBMClassifier\n",
    "from sklearn.preprocessing import StandardScaler\n",
    "import lightgbm as lgb \n",
    "from sklearn.metrics import accuracy_score\n",
    "from sklearn.metrics import confusion_matrix\n",
    "from sklearn import svm\n",
    "%matplotlib inline\n",
    "\n",
    "pd.set_option('display.max_rows', None)\n",
    "pd.set_option('display.max_columns', None)"
   ]
  },
  {
   "cell_type": "markdown",
   "id": "0559c9a0",
   "metadata": {},
   "source": [
    "T-SNE"
   ]
  },
  {
   "cell_type": "code",
   "execution_count": null,
   "id": "d010f274",
   "metadata": {},
   "outputs": [],
   "source": [
    "df_train = pd.read_csv(\"fashion-mnist_train.csv\")\n",
    "df_test = pd.read_csv(\"fashion-mnist_test.csv\")\n",
    "df_train_pixels = df_train.iloc[:,1:] \n",
    "df_target = df_train.iloc[:,0]"
   ]
  },
  {
   "cell_type": "code",
   "execution_count": null,
   "id": "d1a15572",
   "metadata": {},
   "outputs": [],
   "source": [
    "#Using first 10000 data to do T-SNE.\n",
    "tsne = manifold.TSNE(n_components=2, random_state=1)\n",
    "transf_data = tsne.fit_transform(df_train_pixels[:10000].to_numpy())\n",
    "df_tsne = pd.DataFrame(np.column_stack((transf_data, df_target[:10000])),\n",
    "                      columns = [\"X\", \"y\", \"label\"])\n",
    "df_tsne.head()"
   ]
  },
  {
   "cell_type": "code",
   "execution_count": null,
   "id": "8cd9d7e4",
   "metadata": {
    "scrolled": true
   },
   "outputs": [],
   "source": [
    "fig= plt.figure(figsize=(12,10))\n",
    "sns.scatterplot(data=df_tsne, x=\"X\", y=\"y\", hue=\"label\", palette=\"deep\")"
   ]
  },
  {
   "cell_type": "code",
   "execution_count": null,
   "id": "2aaee10d",
   "metadata": {},
   "outputs": [],
   "source": [
    "#Using all data to do T-SNE.\n",
    "tsne = manifold.TSNE(n_components=2, random_state=1)\n",
    "transf_dataall = tsne.fit_transform(df_train_pixels.to_numpy())\n",
    "df_tsneall = pd.DataFrame(np.column_stack((transf_dataall, df_target)),\n",
    "                      columns = [\"X\", \"y\", \"label\"])\n",
    "df_tsneall.head()"
   ]
  },
  {
   "cell_type": "code",
   "execution_count": null,
   "id": "e2641b02",
   "metadata": {},
   "outputs": [],
   "source": [
    "fig= plt.figure(figsize=(12,10))\n",
    "sns.scatterplot(data=df_tsneall, x=\"X\", y=\"y\", hue=\"label\", palette=\"deep\")"
   ]
  },
  {
   "cell_type": "markdown",
   "id": "a6f74aad",
   "metadata": {},
   "source": [
    "LightGBM"
   ]
  },
  {
   "cell_type": "code",
   "execution_count": null,
   "id": "bcecce47",
   "metadata": {},
   "outputs": [],
   "source": [
    "# Perform train-test split\n",
    "X_train, y_train, X_test, y_test = df_train.iloc[:,1:], df_train['label'], df_test.iloc[:,1:], df_test['label']\n",
    "X_train.head()"
   ]
  },
  {
   "cell_type": "code",
   "execution_count": null,
   "id": "c10de835",
   "metadata": {},
   "outputs": [],
   "source": [
    "training_times = []\n",
    "training_acc = []\n",
    "testing_acc = []"
   ]
  },
  {
   "cell_type": "code",
   "execution_count": null,
   "id": "5bbee978",
   "metadata": {},
   "outputs": [],
   "source": [
    "def Train(clf, X, y, X_predict, y_predict):\n",
    "    # Train\n",
    "    start = time.time()\n",
    "    model = clf.fit(X,y)\n",
    "    end = time.time()\n",
    "    print('Training time: ',end-start)\n",
    "    training_times.append(round((end - start),2))\n",
    "    # Predict\n",
    "    train_acc = accuracy_score(y, model.predict(X))\n",
    "    training_acc.append(round(train_acc,4))\n",
    "    print('Training Accuracy {}'.format(train_acc))\n",
    "    test_acc = accuracy_score(y_predict, model.predict(X_predict))\n",
    "    testing_acc.append(round(test_acc,4))\n",
    "    print('Testing Accuracy {}'.format(test_acc))"
   ]
  },
  {
   "cell_type": "code",
   "execution_count": null,
   "id": "1545b7bc",
   "metadata": {},
   "outputs": [],
   "source": [
    "for n in [5,10,25,50,100,150,200,250,300,400,500,600,800,1000,1250,1500,2000]:\n",
    "    print('Using {} estimators.'.format(n))\n",
    "    Train(LGBMClassifier(n_estimators=n), X_train, y_train, X_test, y_test)"
   ]
  },
  {
   "cell_type": "code",
   "execution_count": null,
   "id": "200f46cd",
   "metadata": {},
   "outputs": [],
   "source": [
    "#The best parameter is 1500 estimators.\n",
    "clf = LGBMClassifier(n_estimators=1500)\n",
    "model = clf.fit(X_train, y_train)\n",
    "y_test_pred = model.predict(X_test)\n",
    "confusion = confusion_matrix(y_test,y_test_pred)"
   ]
  },
  {
   "cell_type": "code",
   "execution_count": null,
   "id": "e417f380",
   "metadata": {},
   "outputs": [],
   "source": [
    "#Plot Confusion Matrix\n",
    "fig = plt.figure(figsize=(8, 5))\n",
    "conf_mat = np.matrix(confusion/np.sum(confusion, axis=1))\n",
    "ax = sns.heatmap(conf_mat, annot=True, fmt ='.2%',cmap='Blues')\n",
    "ax.set_title('Confusion Matrix')\n",
    "ax.set_xlabel('Predicted label')\n",
    "ax.set_ylabel('True label')\n",
    "plt.show()"
   ]
  },
  {
   "cell_type": "markdown",
   "id": "17f60553",
   "metadata": {},
   "source": [
    "Ensemble"
   ]
  },
  {
   "cell_type": "code",
   "execution_count": null,
   "id": "25f28fc7",
   "metadata": {},
   "outputs": [],
   "source": [
    "#Train Test Set Split\n",
    "X_train, y_train, X_test, y_test = df_train.iloc[:,1:], df_train['label'], df_test.iloc[:,1:], df_test['label']"
   ]
  },
  {
   "cell_type": "code",
   "execution_count": null,
   "id": "ed858450",
   "metadata": {},
   "outputs": [],
   "source": [
    "#Normalize \n",
    "scaler = StandardScaler()\n",
    "X_train_sd = scaler.fit_transform(X_train)\n",
    "X_test_sd = scaler.fit_transform(X_test)"
   ]
  },
  {
   "cell_type": "code",
   "execution_count": null,
   "id": "e0263dd4",
   "metadata": {},
   "outputs": [],
   "source": [
    "#Train SVM\n",
    "s_m = svm.SVC(gamma=0.001, C = 10, kernel='rbf')\n",
    "s_m.fit(X_train_sd, y_train)\n",
    "s_m_test_pred = s_m.predict(X_test_sd)\n",
    "accuracy_score(y_test,s_m_test_pred)"
   ]
  },
  {
   "cell_type": "code",
   "execution_count": null,
   "id": "710f3969",
   "metadata": {},
   "outputs": [],
   "source": [
    "#Train LightGBM\n",
    "lgb = LGBMClassifier(n_estimators=1500)\n",
    "lgb.fit(X_train, y_train)\n",
    "lgb_test_pred = lgb.predict(X_test)\n",
    "accuracy_score(y_test,lgb_test_pred)"
   ]
  },
  {
   "cell_type": "code",
   "execution_count": null,
   "id": "9f63bff5",
   "metadata": {},
   "outputs": [],
   "source": [
    "#Train XGBoost\n",
    "xgb = XGBClassifier(n_estimators=1000)\n",
    "xgb.fit(X_train_sd, y_train)\n",
    "xgb_test_pred = xgb.predict(X_test_sd)\n",
    "accuracy_score(y_test,xgb_test_pred)"
   ]
  },
  {
   "cell_type": "code",
   "execution_count": null,
   "id": "a2f5b330",
   "metadata": {},
   "outputs": [],
   "source": [
    "def func(x):\n",
    "    if len(np.unique(x.values))<=2:\n",
    "        if x[0]==x[1]:\n",
    "            return x[0]\n",
    "        elif x[0]==x[2]:\n",
    "            return x[0]\n",
    "        else:\n",
    "            return x[2]\n",
    "    else:\n",
    "        return x[2]"
   ]
  },
  {
   "cell_type": "code",
   "execution_count": null,
   "id": "1f16b8c0",
   "metadata": {},
   "outputs": [],
   "source": [
    "#Max Voting ensemble\n",
    "test_pred_ensemble = np.hstack([xgb_test_pred.reshape(-1,1),s_m_test_pred.reshape(-1,1),lgb_test_pred.reshape(-1,1)])\n",
    "test_pred_ensemble_df = pd.DataFrame(test_pred_ensemble)\n",
    "test_pred_ensemble_df_predict = test_pred_ensemble_df.apply(lambda x:func(x),axis=1)\n",
    "accuracy_score(y_test,test_pred_ensemble_df_predict)"
   ]
  },
  {
   "cell_type": "code",
   "execution_count": null,
   "id": "f80564c1",
   "metadata": {},
   "outputs": [],
   "source": [
    "#Plot Confusion Matrix\n",
    "confusion = confusion_matrix(y_test,test_pred_ensemble_df_predict)\n",
    "fig = plt.figure(figsize=(8, 5))\n",
    "conf_mat = np.matrix(confusion/np.sum(confusion, axis=1))\n",
    "ax = sns.heatmap(conf_mat2, annot=True, fmt ='.2%',cmap='Blues')\n",
    "ax.set_title('Confusion Matrix')\n",
    "ax.set_xlabel('Predicted label')\n",
    "ax.set_ylabel('True label')\n",
    "plt.show()"
   ]
  }
 ],
 "metadata": {
  "kernelspec": {
   "display_name": "Python 3",
   "language": "python",
   "name": "python3"
  },
  "language_info": {
   "codemirror_mode": {
    "name": "ipython",
    "version": 3
   },
   "file_extension": ".py",
   "mimetype": "text/x-python",
   "name": "python",
   "nbconvert_exporter": "python",
   "pygments_lexer": "ipython3",
   "version": "3.8.8"
  }
 },
 "nbformat": 4,
 "nbformat_minor": 5
}
